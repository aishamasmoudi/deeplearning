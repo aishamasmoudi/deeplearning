{
 "cells": [
  {
   "cell_type": "code",
   "execution_count": 1,
   "metadata": {},
   "outputs": [
    {
     "name": "stderr",
     "output_type": "stream",
     "text": [
      "/opt/anaconda3/envs/my_env/lib/python3.12/site-packages/tqdm/auto.py:21: TqdmWarning: IProgress not found. Please update jupyter and ipywidgets. See https://ipywidgets.readthedocs.io/en/stable/user_install.html\n",
      "  from .autonotebook import tqdm as notebook_tqdm\n"
     ]
    }
   ],
   "source": [
    "from langchain_community.llms import Ollama\n",
    "from langchain.callbacks.manager import CallbackManager\n",
    "from langchain.callbacks.streaming_stdout import StreamingStdOutCallbackHandler\n",
    "from datasets import load_dataset\n",
    "import pandas as pd"
   ]
  },
  {
   "cell_type": "code",
   "execution_count": 2,
   "metadata": {},
   "outputs": [],
   "source": [
    "#dowlnoad the dataset\n",
    "#dataset = load_dataset(\"nedjmaou/MLMA_hate_speech\")\n",
    "#df = pd.DataFrame(dataset['train'])\n",
    "df = pd.read_csv(\"fr_dataset.csv\", encoding='utf8')"
   ]
  },
  {
   "cell_type": "code",
   "execution_count": 3,
   "metadata": {},
   "outputs": [
    {
     "data": {
      "text/plain": [
       "sentiment\n",
       "offensive                               1336\n",
       "normal                                   821\n",
       "abusive                                  594\n",
       "fearful                                  236\n",
       "hateful                                  207\n",
       "                                        ... \n",
       "abusive_hateful_normal                     1\n",
       "abusive_hateful_disrespectful_normal       1\n",
       "hateful_disrespectful_normal               1\n",
       "abusive_disrespectful_hateful_normal       1\n",
       "disrespectful_hateful                      1\n",
       "Name: count, Length: 69, dtype: int64"
      ]
     },
     "execution_count": 3,
     "metadata": {},
     "output_type": "execute_result"
    }
   ],
   "source": [
    "df['sentiment'].value_counts()"
   ]
  },
  {
   "cell_type": "code",
   "execution_count": 4,
   "metadata": {},
   "outputs": [
    {
     "data": {
      "text/plain": [
       "sentiment_binary\n",
       "1    3193\n",
       "0     821\n",
       "Name: count, dtype: int64"
      ]
     },
     "execution_count": 4,
     "metadata": {},
     "output_type": "execute_result"
    }
   ],
   "source": [
    "#Check that the dataset is balanced \n",
    "df['sentiment'].unique()\n",
    "df['sentiment_binary'] = df['sentiment'].apply(lambda x: 0 if x == 'normal' else 1)\n",
    "df['sentiment_binary'].value_counts()"
   ]
  },
  {
   "cell_type": "code",
   "execution_count": 6,
   "metadata": {},
   "outputs": [],
   "source": [
    "#prompt\n",
    "prompt=[{\"role\": \"system\", \"content\": \"Do you think these tweets are hateful speech?\"},\n",
    "        #{\"role\": \"system\", \"content\": \"classify tweets as hate speech or normal speech. Store the result in a csv file in the LLM folder with either 0 or 1 as the label for each tweet\"},\n",
    "{\"role\": \"ai\", \"content\":df['tweet'].head(1).tolist()},\n",
    "]\n",
    "#LLM initialization\n",
    "llm = Ollama(\n",
    "    model=\"llama3\", callback_manager=CallbackManager([StreamingStdOutCallbackHandler()])\n",
    ")\n",
    "llm.invoke(prompt)"
   ]
  }
 ],
 "metadata": {
  "kernelspec": {
   "display_name": "base",
   "language": "python",
   "name": "python3"
  },
  "language_info": {
   "codemirror_mode": {
    "name": "ipython",
    "version": 3
   },
   "file_extension": ".py",
   "mimetype": "text/x-python",
   "name": "python",
   "nbconvert_exporter": "python",
   "pygments_lexer": "ipython3",
   "version": "3.12.3"
  }
 },
 "nbformat": 4,
 "nbformat_minor": 2
}
